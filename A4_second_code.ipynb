{
 "cells": [
  {
   "cell_type": "code",
   "execution_count": 16,
   "id": "f46b9601",
   "metadata": {},
   "outputs": [],
   "source": [
    "#Load Libraries\n",
    "import pandas as pd\n"
   ]
  },
  {
   "cell_type": "code",
   "execution_count": 17,
   "id": "1846e6e5",
   "metadata": {},
   "outputs": [],
   "source": [
    "#Copying csv dataset in a variable called dataset_file \n",
    "#Copying csv output file to output_file\n",
    "\n",
    "dataset_file = r\"youtube_dataset.csv\"\n",
    "output_file = r\"youtube_output.csv\""
   ]
  },
  {
   "cell_type": "code",
   "execution_count": 18,
   "id": "4fc36c23",
   "metadata": {},
   "outputs": [],
   "source": [
    "#Loading the datafile in pandas DataFrame (Using L1 encoding)\n",
    "youtube_data = pd.read_csv(dataset_file, sep=\",\", encoding='ISO-8859-1')"
   ]
  },
  {
   "cell_type": "code",
   "execution_count": 19,
   "id": "78b814e1",
   "metadata": {},
   "outputs": [],
   "source": [
    "#Filtering top 1000 rows\n",
    "top_1000_data = youtube_data.head(1000)"
   ]
  },
  {
   "cell_type": "code",
   "execution_count": null,
   "id": "926c3cf2",
   "metadata": {},
   "outputs": [],
   "source": [
    "#Filtered 1000 rows to csv(output_file)\n",
    "top_1000_data.to_csv(output_file)"
   ]
  },
  {
   "cell_type": "code",
   "execution_count": null,
   "id": "3a61e93c",
   "metadata": {},
   "outputs": [],
   "source": []
  }
 ],
 "metadata": {
  "kernelspec": {
   "display_name": "Python 3 (ipykernel)",
   "language": "python",
   "name": "python3"
  },
  "language_info": {
   "codemirror_mode": {
    "name": "ipython",
    "version": 3
   },
   "file_extension": ".py",
   "mimetype": "text/x-python",
   "name": "python",
   "nbconvert_exporter": "python",
   "pygments_lexer": "ipython3",
   "version": "3.9.7"
  }
 },
 "nbformat": 4,
 "nbformat_minor": 5
}
